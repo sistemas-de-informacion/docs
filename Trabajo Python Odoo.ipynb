{
 "cells": [
  {
   "cell_type": "code",
   "execution_count": 1,
   "metadata": {
    "collapsed": true
   },
   "outputs": [],
   "source": [
    "import erppeek"
   ]
  },
  {
   "cell_type": "markdown",
   "metadata": {},
   "source": [
    "La documentación necesaria para poder superar este ejercicio se encuentra en la documentación de la libreria de Pyhon [ERPpeek](http://erppeek.readthedocs.org/en/latest/tutorial.html) y, opcionalmente, en la documentación del [Web Service API de Odoo](https://www.odoo.com/documentation/10.0/api_integration.html)\n",
    "\n",
    "\n",
    "\n",
    "### Tarea 1 - Conexión\n",
    "\n",
    "Demuestra que sabes conectarte a una instancia de Odoo y listar todas sus bases de datos. "
   ]
  },
  {
   "cell_type": "code",
   "execution_count": null,
   "metadata": {
    "scrolled": true
   },
   "outputs": [],
   "source": []
  },
  {
   "cell_type": "markdown",
   "metadata": {},
   "source": [
    "### Tarea 2 - Volcado de datos\n",
    "\n",
    "Demuestra que puedes imprimir el `id` y el nombre de todos los usuarios (son registros del modelo `res.users`)."
   ]
  },
  {
   "cell_type": "code",
   "execution_count": null,
   "metadata": {},
   "outputs": [],
   "source": []
  },
  {
   "cell_type": "markdown",
   "metadata": {},
   "source": [
    "### Tarea 3 - Crear y configurar una base de datos\n",
    "Demuestra que sabes crear una base de datos, listar todos los módulos instalados por defecto, y si no está presente un módulo determinado instalarlo."
   ]
  },
  {
   "cell_type": "code",
   "execution_count": null,
   "metadata": {},
   "outputs": [],
   "source": []
  },
  {
   "cell_type": "markdown",
   "metadata": {},
   "source": [
    "### Tarea 4 - Explorar un modelo\n",
    "\n",
    "Demuesta que sabes listar todos los campos  del modelo `res.users`, incluyendo nombre, tipo y etiqueta"
   ]
  },
  {
   "cell_type": "code",
   "execution_count": null,
   "metadata": {},
   "outputs": [],
   "source": []
  },
  {
   "cell_type": "markdown",
   "metadata": {
    "collapsed": true
   },
   "source": [
    "### Tarea 5 - Poblar un modelo\n",
    "\n",
    "Crea el código neccesario para migrar los usuarios de una base de datos a otra base de datos. No es necesario migrar todos los campos. Basta con una prueba de concepto. "
   ]
  },
  {
   "cell_type": "code",
   "execution_count": null,
   "metadata": {
    "collapsed": true
   },
   "outputs": [],
   "source": []
  }
 ],
 "metadata": {
  "kernelspec": {
   "display_name": "Python 2",
   "language": "python",
   "name": "python2"
  },
  "language_info": {
   "codemirror_mode": {
    "name": "ipython",
    "version": 2
   },
   "file_extension": ".py",
   "mimetype": "text/x-python",
   "name": "python",
   "nbconvert_exporter": "python",
   "pygments_lexer": "ipython2",
   "version": "2.7.13"
  }
 },
 "nbformat": 4,
 "nbformat_minor": 1
}
